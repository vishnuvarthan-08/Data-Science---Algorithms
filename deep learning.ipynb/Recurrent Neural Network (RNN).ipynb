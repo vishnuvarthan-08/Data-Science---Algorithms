{
 "cells": [
  {
   "cell_type": "code",
   "execution_count": 3,
   "id": "952da667",
   "metadata": {},
   "outputs": [
    {
     "name": "stdout",
     "output_type": "stream",
     "text": [
      "        Date    Open    High     Low   Close   Volume\n",
      "0  30-Jun-17  943.99  945.00  929.61  929.68  2287662\n",
      "1  29-Jun-17  951.35  951.66  929.60  937.82  3206674\n",
      "2  28-Jun-17  950.66  963.24  936.16  961.01  2745568\n",
      "3  27-Jun-17  961.60  967.22  947.09  948.09  2443602\n",
      "4  26-Jun-17  990.00  993.99  970.33  972.09  1517912\n",
      "\n",
      "\n",
      "Open   --- mean : 382.51416852146264   \t Std:  213.48651683323436   \t Max:  1005.49   \t Min:  87.74\n",
      "High   --- mean : 385.8720985691574   \t Std:  214.60229511464593   \t Max:  1008.61   \t Min:  89.29\n",
      "Low    --- mean : 378.7371255961844   \t Std:  212.08010983015188   \t Max:  996.62   \t Min:  86.37\n",
      "Close  --- mean : 382.3502480127186   \t Std:  213.43595872312451   \t Max:  1004.28   \t Min:  87.58\n",
      "Volume --- mean : 4205707.889666136   \t Std:  3877483.007730211   \t Max:  41182889   \t Min:  521141\n"
     ]
    }
   ],
   "source": [
    "import pandas as pd\n",
    "import numpy as np\n",
    "\n",
    "data = pd.read_csv('google.csv')\n",
    "print(data.head())\n",
    "\n",
    "print(\"\\n\")\n",
    "print(\"Open   --- mean :\", np.mean(data['Open']),  \"  \\t Std: \", np.std(data['Open']),  \"  \\t Max: \", np.max(data['Open']),  \"  \\t Min: \", np.min(data['Open']))\n",
    "print(\"High   --- mean :\", np.mean(data['High']),  \"  \\t Std: \", np.std(data['High']),  \"  \\t Max: \", np.max(data['High']),  \"  \\t Min: \", np.min(data['High']))\n",
    "print(\"Low    --- mean :\", np.mean(data['Low']),   \"  \\t Std: \", np.std(data['Low']),   \"  \\t Max: \", np.max(data['Low']),   \"  \\t Min: \", np.min(data['Low']))\n",
    "print(\"Close  --- mean :\", np.mean(data['Close']), \"  \\t Std: \", np.std(data['Close']), \"  \\t Max: \", np.max(data['Close']), \"  \\t Min: \", np.min(data['Close']))\n",
    "print(\"Volume --- mean :\", np.mean(data['Volume']),\"  \\t Std: \", np.std(data['Volume']),\"  \\t Max: \", np.max(data['Volume']),\"  \\t Min: \", np.min(data['Volume']))"
   ]
  },
  {
   "cell_type": "code",
   "execution_count": 7,
   "id": "1cab27fe",
   "metadata": {},
   "outputs": [
    {
     "ename": "ModuleNotFoundError",
     "evalue": "No module named 'preprocess_data'",
     "output_type": "error",
     "traceback": [
      "\u001b[1;31m---------------------------------------------------------------------------\u001b[0m",
      "\u001b[1;31mModuleNotFoundError\u001b[0m                       Traceback (most recent call last)",
      "Cell \u001b[1;32mIn[7], line 1\u001b[0m\n\u001b[1;32m----> 1\u001b[0m \u001b[38;5;28;01mimport\u001b[39;00m\u001b[38;5;250m \u001b[39m\u001b[38;5;21;01mpreprocess_data\u001b[39;00m\u001b[38;5;250m \u001b[39m\u001b[38;5;28;01mas\u001b[39;00m\u001b[38;5;250m \u001b[39m\u001b[38;5;21;01mppd\u001b[39;00m\n\u001b[0;32m      2\u001b[0m stocks \u001b[38;5;241m=\u001b[39m ppd\u001b[38;5;241m.\u001b[39mremove_data(data)\n\u001b[0;32m      4\u001b[0m \u001b[38;5;66;03m#Print the dataframe head and tail\u001b[39;00m\n",
      "\u001b[1;31mModuleNotFoundError\u001b[0m: No module named 'preprocess_data'"
     ]
    }
   ],
   "source": [
    "import preprocess_data as ppd\n",
    "stocks = ppd.remove_data(data)\n",
    "\n",
    "#Print the dataframe head and tail\n",
    "print(type(stocks))\n"
   ]
  },
  {
   "cell_type": "code",
   "execution_count": null,
   "id": "6a639413",
   "metadata": {},
   "outputs": [],
   "source": []
  }
 ],
 "metadata": {
  "kernelspec": {
   "display_name": "Python 3",
   "language": "python",
   "name": "python3"
  },
  "language_info": {
   "codemirror_mode": {
    "name": "ipython",
    "version": 3
   },
   "file_extension": ".py",
   "mimetype": "text/x-python",
   "name": "python",
   "nbconvert_exporter": "python",
   "pygments_lexer": "ipython3",
   "version": "3.10.0"
  }
 },
 "nbformat": 4,
 "nbformat_minor": 5
}
